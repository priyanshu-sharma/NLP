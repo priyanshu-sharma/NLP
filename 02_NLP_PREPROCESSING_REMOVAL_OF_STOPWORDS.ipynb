{
 "cells": [
  {
   "cell_type": "markdown",
   "metadata": {},
   "source": [
    "**NLP PREPROCESSING PART (REMOVAL OF STOPWORDS)**"
   ]
  },
  {
   "cell_type": "code",
   "execution_count": 30,
   "metadata": {},
   "outputs": [],
   "source": [
    "import nltk\n",
    "from nltk.corpus import stopwords\n",
    "from nltk.tokenize import word_tokenize"
   ]
  },
  {
   "cell_type": "code",
   "execution_count": 31,
   "metadata": {},
   "outputs": [],
   "source": [
    "example = \"This is Priyanshu Sharma and I am a Computer Science student.\""
   ]
  },
  {
   "cell_type": "code",
   "execution_count": 32,
   "metadata": {},
   "outputs": [],
   "source": [
    "stopword = set(stopwords.words(\"english\"))"
   ]
  },
  {
   "cell_type": "code",
   "execution_count": 33,
   "metadata": {},
   "outputs": [],
   "source": [
    "word = word_tokenize(example)"
   ]
  },
  {
   "cell_type": "markdown",
   "metadata": {},
   "source": [
    "**SET OF ALL THE STOPWORDS**"
   ]
  },
  {
   "cell_type": "code",
   "execution_count": 34,
   "metadata": {},
   "outputs": [
    {
     "name": "stdout",
     "output_type": "stream",
     "text": [
      "{'some', 'itself', 'they', 'very', \"haven't\", \"you're\", 'or', 'wasn', 'between', 'i', 'but', \"couldn't\", 'just', 'more', 'has', 'how', 'why', 'yourselves', 'both', 'was', 'theirs', 'didn', 'been', 'should', 'hers', 'not', 'herself', 'on', 'no', 'only', 'them', 'will', 've', 's', 'do', 'mustn', \"didn't\", 'd', 'myself', 'all', 'hadn', \"won't\", 'he', \"isn't\", 'which', 'whom', \"should've\", 'this', 'there', \"wasn't\", 'weren', 'off', 'then', 'our', 'me', 'her', 'nor', 'because', \"she's\", \"mustn't\", 'needn', \"you'll\", 'against', 'while', \"wouldn't\", 'out', 'you', \"doesn't\", \"that'll\", 'these', 'isn', 'is', 'those', 'y', 'up', 'a', 'm', 'further', \"aren't\", 'about', 'being', 'we', 'of', 'she', 'doing', 'when', 'most', 'ain', 't', 'couldn', 'it', 'won', 'by', \"weren't\", \"needn't\", \"shouldn't\", 'own', 'any', 'shan', 'now', 'to', 'the', 'through', 'such', 'have', 'so', 'be', 'your', 'if', 'hasn', \"hasn't\", 'and', 'until', 'into', 'other', 'over', 'too', 'its', 'can', 'wouldn', 'what', 'before', 'for', 'where', 'in', 'doesn', 'are', 'same', 'each', 'himself', 'aren', \"hadn't\", 'from', 'his', 'as', 'during', 'above', 'under', 'who', \"don't\", 'ma', 'ours', 'did', 'yourself', \"shan't\", 'here', 'yours', 'few', 'mightn', 'that', 'again', 'my', 'themselves', 'once', 'at', 'him', 'than', 'shouldn', 'does', 'haven', \"you'd\", 'll', \"you've\", 'had', 'after', 'their', \"mightn't\", 'an', 'don', 'o', 'am', 'were', 'ourselves', 'down', 'below', 'having', 'with', 're', \"it's\"}\n"
     ]
    }
   ],
   "source": [
    "print(stopword)"
   ]
  },
  {
   "cell_type": "code",
   "execution_count": 35,
   "metadata": {},
   "outputs": [
    {
     "name": "stdout",
     "output_type": "stream",
     "text": [
      "179\n"
     ]
    }
   ],
   "source": [
    "print(len(stopword))"
   ]
  },
  {
   "cell_type": "code",
   "execution_count": 36,
   "metadata": {},
   "outputs": [],
   "source": [
    "filter_sentence = []"
   ]
  },
  {
   "cell_type": "code",
   "execution_count": 37,
   "metadata": {},
   "outputs": [],
   "source": [
    "for w in word:\n",
    "    if w not in stopword:\n",
    "        filter_sentence.append(w)"
   ]
  },
  {
   "cell_type": "markdown",
   "metadata": {},
   "source": [
    "**REMOVAL OF STOP WORDS**"
   ]
  },
  {
   "cell_type": "code",
   "execution_count": 38,
   "metadata": {},
   "outputs": [
    {
     "name": "stdout",
     "output_type": "stream",
     "text": [
      "['This', 'Priyanshu', 'Sharma', 'I', 'Computer', 'Science', 'student', '.']\n"
     ]
    }
   ],
   "source": [
    "print(filter_sentence)"
   ]
  }
 ],
 "metadata": {
  "kernelspec": {
   "display_name": "Python 3",
   "language": "python",
   "name": "python3"
  },
  "language_info": {
   "codemirror_mode": {
    "name": "ipython",
    "version": 3
   },
   "file_extension": ".py",
   "mimetype": "text/x-python",
   "name": "python",
   "nbconvert_exporter": "python",
   "pygments_lexer": "ipython3",
   "version": "3.6.8rc1"
  }
 },
 "nbformat": 4,
 "nbformat_minor": 2
}
